{
 "cells": [
  {
   "cell_type": "code",
   "execution_count": 1,
   "id": "9e20e9ac",
   "metadata": {},
   "outputs": [],
   "source": [
    "#importing numpy\n",
    "import numpy as np"
   ]
  },
  {
   "cell_type": "code",
   "execution_count": 2,
   "id": "37b00189",
   "metadata": {},
   "outputs": [],
   "source": [
    "#function for initializing parameters\n",
    "def initialize_parameters():\n",
    "    weight = 0\n",
    "    bias = 0\n",
    "    return weight, bias"
   ]
  },
  {
   "cell_type": "code",
   "execution_count": 3,
   "id": "f2ac9655",
   "metadata": {},
   "outputs": [],
   "source": [
    "#function for making predictions\n",
    "def predict(weight, bias, X):\n",
    "    y_pred = np.dot(X, weight) + bias\n",
    "    return y_pred"
   ]
  },
  {
   "cell_type": "code",
   "execution_count": 4,
   "id": "ab5dbba2",
   "metadata": {},
   "outputs": [],
   "source": [
    "#function for computing loss\n",
    "def compute_loss(y_true, y_pred):\n",
    "    n = len(y_true)\n",
    "    loss = np.sum((y_true - y_pred)**2) / len(y_true)\n",
    "    return loss"
   ]
  },
  {
   "cell_type": "code",
   "execution_count": 5,
   "id": "73d8d0f9",
   "metadata": {},
   "outputs": [],
   "source": [
    "#function for computing gradient\n",
    "def compute_gradient(X, y_true, y_pred):\n",
    "    n = len(X)\n",
    "    dW = (-2/n) * np.sum( X * (y_true - y_pred))\n",
    "    dB = (-2/n) * np.sum (y_true - y_pred)\n",
    "    return dW, dB"
   ]
  },
  {
   "cell_type": "code",
   "execution_count": 6,
   "id": "5979fc59",
   "metadata": {},
   "outputs": [],
   "source": [
    "#function for updating parameters\n",
    "def update_parameters(weight, bias, dW, dB, learning_rate):\n",
    "    weight = weight - dW * learning_rate\n",
    "    bias = bias - dB * learning_rate\n",
    "    return weight, bias"
   ]
  },
  {
   "cell_type": "code",
   "execution_count": 7,
   "id": "d13722b5",
   "metadata": {},
   "outputs": [],
   "source": [
    "#function for training linear regression model\n",
    "def linear_regression_train(X, y, learning_rate, iterations):\n",
    "    weight, bias = initialize_parameters()\n",
    "    print(\"***Loss for Different Iterations***\\n\")\n",
    "    for i in range(iterations):\n",
    "        y_pred = predict(weight, bias, X)\n",
    "        loss = compute_loss(y, y_pred)\n",
    "        dW, dB = compute_gradient(X, y, y_pred)\n",
    "        weight, bias = update_parameters(weight, bias, dW, dB, learning_rate)\n",
    "        if i%100 == 0:\n",
    "            print(\"Iteration:\", i, \"Loss:\", round(loss, 2))\n",
    "    print()\n",
    "    return weight, bias"
   ]
  },
  {
   "cell_type": "code",
   "execution_count": 8,
   "id": "2f67f195",
   "metadata": {},
   "outputs": [],
   "source": [
    "def linear_regression_predict(weight, bias, X):\n",
    "    y_pred = predict(weight, bias, X)\n",
    "    return y_pred"
   ]
  },
  {
   "cell_type": "code",
   "execution_count": 9,
   "id": "707e3072",
   "metadata": {},
   "outputs": [
    {
     "name": "stdout",
     "output_type": "stream",
     "text": [
      "***Loss for Different Iterations***\n",
      "\n",
      "Iteration: 0 Loss: 5196.43\n",
      "Iteration: 100 Loss: 148.79\n",
      "Iteration: 200 Loss: 69.89\n",
      "Iteration: 300 Loss: 33.37\n",
      "Iteration: 400 Loss: 16.47\n",
      "Iteration: 500 Loss: 8.65\n",
      "Iteration: 600 Loss: 5.03\n",
      "Iteration: 700 Loss: 3.36\n",
      "Iteration: 800 Loss: 2.58\n",
      "Iteration: 900 Loss: 2.22\n",
      "Iteration: 1000 Loss: 2.06\n",
      "Iteration: 1100 Loss: 1.98\n",
      "Iteration: 1200 Loss: 1.94\n",
      "Iteration: 1300 Loss: 1.93\n",
      "Iteration: 1400 Loss: 1.92\n",
      "\n"
     ]
    }
   ],
   "source": [
    "learning_rate = 0.01\n",
    "iterations = 1500\n",
    "X = [1, 2, 3, 4, 5, 6, 7]\n",
    "\n",
    "# Labels (Exam Score)\n",
    "Y = [50, 55, 65, 70, 80, 85, 90]\n",
    "X = np.array(X)\n",
    "Y = np.array(Y)\n",
    "weight, bias = linear_regression_train(X, Y, learning_rate, iterations)\n",
    "X_test = np.array([8, 9, 10])"
   ]
  },
  {
   "cell_type": "code",
   "execution_count": 10,
   "id": "065d70a7",
   "metadata": {},
   "outputs": [
    {
     "name": "stdout",
     "output_type": "stream",
     "text": [
      "Predictions for test data is: [ 98.65 105.64 112.63]\n"
     ]
    }
   ],
   "source": [
    "y_pred = predict(weight, bias, X_test)\n",
    "print(\"Predictions for test data is:\", np.round(y_pred, 2))"
   ]
  },
  {
   "cell_type": "code",
   "execution_count": 11,
   "id": "b1227668",
   "metadata": {},
   "outputs": [
    {
     "name": "stdout",
     "output_type": "stream",
     "text": [
      "Predictions for test data using sklearn: [ 98.57 105.54 112.5 ]\n"
     ]
    }
   ],
   "source": [
    "from sklearn.linear_model import LinearRegression\n",
    "lr = LinearRegression()\n",
    "lr.fit(X.reshape(-1, 1), Y)\n",
    "lr_pred = lr.predict(X_test.reshape(-1, 1))\n",
    "print(\"Predictions for test data using sklearn:\", np.round(lr_pred, 2))"
   ]
  },
  {
   "cell_type": "code",
   "execution_count": 12,
   "id": "2d23ce1d",
   "metadata": {},
   "outputs": [
    {
     "name": "stdout",
     "output_type": "stream",
     "text": [
      "Linear Regression coefficient (manually) 6.99\n",
      "Linear Regression intercept (manually) 42.73\n"
     ]
    }
   ],
   "source": [
    "print(\"Linear Regression coefficient (manually)\", round(weight, 2))\n",
    "print(\"Linear Regression intercept (manually)\", round(bias, 2))"
   ]
  },
  {
   "cell_type": "code",
   "execution_count": 13,
   "id": "d2dd4d92",
   "metadata": {},
   "outputs": [
    {
     "name": "stdout",
     "output_type": "stream",
     "text": [
      "Linear Regression coefficient (sklearn) 6.96\n",
      "Linear Regression intercept (sklearn) 42.86\n"
     ]
    }
   ],
   "source": [
    "print(\"Linear Regression coefficient (sklearn)\", round(lr.coef_[0], 2))\n",
    "print(\"Linear Regression intercept (sklearn)\", round(lr.intercept_, 2))"
   ]
  }
 ],
 "metadata": {
  "kernelspec": {
   "display_name": "Python 3 (ipykernel)",
   "language": "python",
   "name": "python3"
  },
  "language_info": {
   "codemirror_mode": {
    "name": "ipython",
    "version": 3
   },
   "file_extension": ".py",
   "mimetype": "text/x-python",
   "name": "python",
   "nbconvert_exporter": "python",
   "pygments_lexer": "ipython3",
   "version": "3.9.13"
  }
 },
 "nbformat": 4,
 "nbformat_minor": 5
}
