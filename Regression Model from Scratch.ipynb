{
 "cells": [
  {
   "cell_type": "code",
   "execution_count": 1,
   "id": "9afdedb3",
   "metadata": {},
   "outputs": [],
   "source": [
    "#importing numpy\n",
    "import numpy as np"
   ]
  },
  {
   "cell_type": "code",
   "execution_count": 2,
   "id": "8bd52b64",
   "metadata": {},
   "outputs": [],
   "source": [
    "#function for initializing parameters\n",
    "def initialize_parameters(n_features):\n",
    "    if n_features == 1:\n",
    "        weights = 0\n",
    "    else:\n",
    "        weights = np.zeros(n_features)\n",
    "    bias = 0\n",
    "    return weights, bias"
   ]
  },
  {
   "cell_type": "code",
   "execution_count": 3,
   "id": "03ba9a32",
   "metadata": {},
   "outputs": [],
   "source": [
    "#function for predicting output\n",
    "def predict(weights, bias, X):\n",
    "    y_pred = np.dot(X, weights) + bias\n",
    "    return y_pred"
   ]
  },
  {
   "cell_type": "code",
   "execution_count": 4,
   "id": "9b796b63",
   "metadata": {},
   "outputs": [],
   "source": [
    "#function for computing loss\n",
    "def compute_loss(y, y_pred):\n",
    "    loss = np.sum((y - y_pred)**2) / len(y)\n",
    "    return loss"
   ]
  },
  {
   "cell_type": "code",
   "execution_count": 5,
   "id": "b0cc2bf8",
   "metadata": {},
   "outputs": [],
   "source": [
    "#function for computing gradients\n",
    "def compute_gradients(X, y, y_pred):\n",
    "    n = len(y)\n",
    "    try:\n",
    "        dW = (-2/n)*np.sum(X*(y - y_pred))\n",
    "    except:\n",
    "        dW = (-2/n)*np.sum(X.T*(y - y_pred))\n",
    "    dB = (-2/n)*np.sum(y - y_pred)\n",
    "    return dW, dB"
   ]
  },
  {
   "cell_type": "code",
   "execution_count": 6,
   "id": "1c7b556a",
   "metadata": {},
   "outputs": [],
   "source": [
    "#function for updating parameters\n",
    "def update_parameters(weights, bias, dW, dB, learning_rate):\n",
    "    weights = weights - dW * learning_rate\n",
    "    bias = bias - dB * learning_rate\n",
    "    return weights, bias"
   ]
  },
  {
   "cell_type": "code",
   "execution_count": 7,
   "id": "f4dee5e7",
   "metadata": {},
   "outputs": [],
   "source": [
    "#function for training regression model\n",
    "def linear_regression_train(X, y, learning_rate, iterations):\n",
    "    try:\n",
    "        n_features = X.shape[1]\n",
    "    except:\n",
    "        print(\"Except block running\")\n",
    "        n_features = 1\n",
    "    weights, bias = initialize_parameters(n_features)\n",
    "    for i in range(iterations):\n",
    "        y_pred = predict(weights, bias, X)\n",
    "        loss = compute_loss(y, y_pred)\n",
    "        dW, dB = compute_gradients(X, y, y_pred)\n",
    "        weights, bias = update_parameters(weights, bias, dW, dB, learning_rate)\n",
    "        if (i%100 == 0):\n",
    "            print(\"Iterations\", i, \"Loss\",loss )\n",
    "    return weights, bias"
   ]
  },
  {
   "cell_type": "code",
   "execution_count": 8,
   "id": "2abee40e",
   "metadata": {},
   "outputs": [
    {
     "name": "stdout",
     "output_type": "stream",
     "text": [
      "Except block running\n",
      "Iterations 0 Loss 5196.428571428572\n",
      "Iterations 100 Loss 148.78867270013893\n",
      "Iterations 200 Loss 69.88955265133303\n",
      "Iterations 300 Loss 33.37377815319603\n",
      "Iterations 400 Loss 16.47369376221736\n",
      "Iterations 500 Loss 8.652064443173959\n",
      "Iterations 600 Loss 5.032089312329256\n",
      "Iterations 700 Loss 3.3567069318284615\n",
      "Iterations 800 Loss 2.5813131737399932\n",
      "Iterations 900 Loss 2.2224485425488085\n",
      "Iterations 1000 Loss 2.056360252339405\n",
      "Iterations 1100 Loss 1.97949193557851\n",
      "Iterations 1200 Loss 1.9439160493182406\n",
      "Iterations 1300 Loss 1.9274509602342444\n",
      "Iterations 1400 Loss 1.9198306536996432\n"
     ]
    }
   ],
   "source": [
    "iterations = 1500\n",
    "learning_rate = 0.01\n",
    "X = np.array([1, 2, 3, 4, 5, 6, 7])\n",
    "Y = np.array([50, 55, 65, 70, 80, 85, 90])\n",
    "weights, bias = linear_regression_train(X, Y, learning_rate, iterations)"
   ]
  },
  {
   "cell_type": "code",
   "execution_count": 9,
   "id": "61884858",
   "metadata": {},
   "outputs": [
    {
     "data": {
      "text/plain": [
       "array([ 98.64728356, 105.6364556 , 112.62562764])"
      ]
     },
     "execution_count": 9,
     "metadata": {},
     "output_type": "execute_result"
    }
   ],
   "source": [
    "X_test = np.array([8,9,10])\n",
    "predict(weights, bias, X_test)"
   ]
  },
  {
   "cell_type": "code",
   "execution_count": 10,
   "id": "23ae6183",
   "metadata": {},
   "outputs": [
    {
     "name": "stdout",
     "output_type": "stream",
     "text": [
      "Iterations 0 Loss 5196.428571428572\n",
      "Iterations 100 Loss 131.03389281905032\n",
      "Iterations 200 Loss 68.59946668018767\n",
      "Iterations 300 Loss 36.54503799385582\n",
      "Iterations 400 Loss 19.898418067805174\n",
      "Iterations 500 Loss 11.253408616574765\n",
      "Iterations 600 Loss 6.763837231519609\n",
      "Iterations 700 Loss 4.432289610291471\n",
      "Iterations 800 Loss 3.221458142470233\n",
      "Iterations 900 Loss 2.59264283107899\n",
      "Iterations 1000 Loss 2.2660831847959164\n",
      "Iterations 1100 Loss 2.0964925265395924\n",
      "Iterations 1200 Loss 2.0084198216135936\n",
      "Iterations 1300 Loss 1.962681445262369\n",
      "Iterations 1400 Loss 1.9389283531664323\n",
      "Iterations 1500 Loss 1.9265927735256951\n",
      "Iterations 1600 Loss 1.920186595986429\n",
      "Iterations 1700 Loss 1.9168597064636277\n",
      "Iterations 1800 Loss 1.9151319688495663\n",
      "Iterations 1900 Loss 1.914234711143056\n"
     ]
    }
   ],
   "source": [
    "#running multiple linear model\n",
    "\n",
    "#Example \n",
    "X = np.array([[1, 2],[2, 3],[3, 4],[4, 5],[5, 6],[6, 7],[7, 8]])\n",
    "# Labels (Exam Score)\n",
    "Y = np.array([50, 55, 65, 70, 80, 85, 90])\n",
    "learning_rate = 0.01\n",
    "iterations = 2000\n",
    "weights, bias = linear_regression_train(X, Y, learning_rate, iterations)"
   ]
  },
  {
   "cell_type": "code",
   "execution_count": 11,
   "id": "390e901a",
   "metadata": {},
   "outputs": [
    {
     "data": {
      "text/plain": [
       "array([ 98.60346991, 105.57802463, 112.55257936])"
      ]
     },
     "execution_count": 11,
     "metadata": {},
     "output_type": "execute_result"
    }
   ],
   "source": [
    "X_test = np.array([[8, 9],[9, 10],[10, 11]])\n",
    "y_pred = predict(weights, bias, X_test)\n",
    "y_pred"
   ]
  }
 ],
 "metadata": {
  "kernelspec": {
   "display_name": "Python 3 (ipykernel)",
   "language": "python",
   "name": "python3"
  },
  "language_info": {
   "codemirror_mode": {
    "name": "ipython",
    "version": 3
   },
   "file_extension": ".py",
   "mimetype": "text/x-python",
   "name": "python",
   "nbconvert_exporter": "python",
   "pygments_lexer": "ipython3",
   "version": "3.9.13"
  }
 },
 "nbformat": 4,
 "nbformat_minor": 5
}
