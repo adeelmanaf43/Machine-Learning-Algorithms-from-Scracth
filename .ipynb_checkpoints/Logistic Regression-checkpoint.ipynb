{
 "cells": [
  {
   "cell_type": "code",
   "execution_count": 1,
   "id": "e8e52af5",
   "metadata": {},
   "outputs": [],
   "source": [
    "#importing numpy \n",
    "import numpy as np"
   ]
  },
  {
   "cell_type": "code",
   "execution_count": 2,
   "id": "527ceb20",
   "metadata": {},
   "outputs": [],
   "source": [
    "#sigmoid function\n",
    "def sigmoid(z):\n",
    "    return 1 / (1 + np.exp(-z))"
   ]
  },
  {
   "cell_type": "code",
   "execution_count": 14,
   "id": "16e01d93",
   "metadata": {},
   "outputs": [],
   "source": [
    "#computing cost\n",
    "def compute_cost(theta, X, y):\n",
    "    m = len(y)\n",
    "    h = sigmoid(np.dot(X, theta))\n",
    "    cost = (-1/m)* np.sum(y * np.log(h) + (1 - y) * np.log(1-h))\n",
    "    return cost"
   ]
  },
  {
   "cell_type": "code",
   "execution_count": 15,
   "id": "21e6ed10",
   "metadata": {},
   "outputs": [],
   "source": [
    "#gradient descent\n",
    "def gradient_descent(X, y, theta, learning_rate, num_iterations):\n",
    "    m = len(y)\n",
    "    for i in range(num_iterations):\n",
    "        h = sigmoid(np.dot(X, theta))\n",
    "        gradient = np.dot(X.T, (h-y)) / m\n",
    "        theta -= learning_rate * gradient\n",
    "        cost = compute_cost(X, y, theta)\n",
    "        if i % 100 == 0:\n",
    "            print(\"Cost:\", cost)\n",
    "    return theta"
   ]
  },
  {
   "cell_type": "code",
   "execution_count": 16,
   "id": "2cc8d71e",
   "metadata": {},
   "outputs": [],
   "source": [
    "#function for predicting probability\n",
    "def predict_proba(X, theta):\n",
    "    return sigmoid(np.dot(X, theta))"
   ]
  },
  {
   "cell_type": "code",
   "execution_count": 17,
   "id": "9deb9e57",
   "metadata": {},
   "outputs": [],
   "source": [
    "#function for predicting actual value\n",
    "def predict(X, theta):\n",
    "    prob = predict_proba(X, theta)\n",
    "    return [1 if i > 0.5 else 0 for i in prob]"
   ]
  },
  {
   "cell_type": "code",
   "execution_count": 18,
   "id": "4dc1b2d9",
   "metadata": {},
   "outputs": [
    {
     "name": "stdout",
     "output_type": "stream",
     "text": [
      "Cost: 2.4929057993110852\n",
      "Cost: 2.4632007858285925\n",
      "Cost: 2.4346418774067073\n",
      "Cost: 2.4071823704751334\n",
      "Cost: 2.3807771570033784\n",
      "Cost: 2.355382735952851\n",
      "Cost: 2.3309572116317883\n",
      "Cost: 2.307460281159032\n",
      "Cost: 2.284853212985281\n",
      "Cost: 2.263098818178776\n",
      "Cost: 2.2421614159591625\n",
      "Cost: 2.222006794759711\n",
      "Cost: 2.2026021699146376\n",
      "Cost: 2.1839161389044035\n",
      "Cost: 2.165918634946822\n",
      "Cost: 2.148580879594236\n",
      "Cost: 2.1318753348857236\n",
      "Cost: 2.1157756555066194\n",
      "Cost: 2.1002566413242434\n",
      "Cost: 2.0852941905971623\n"
     ]
    },
    {
     "data": {
      "text/plain": [
       "array([0.10090138, 0.26190833, 0.19709231])"
      ]
     },
     "execution_count": 18,
     "metadata": {},
     "output_type": "execute_result"
    }
   ],
   "source": [
    "#X and y for logistic regression model\n",
    "X = np.array([[0.1, 0.2],\n",
    "                  [0.4, 0.6],\n",
    "                  [0.5, 0.8],\n",
    "                  [0.9, 0.4],\n",
    "                  [0.7, 0.9]])\n",
    "y = np.array([0, 0, 1, 1, 1])\n",
    "\n",
    "#adding intercept terms to x\n",
    "X = np.insert(X, 0, 1, axis = 1)\n",
    "\n",
    "#initialize paramaters\n",
    "theta = np.zeros(X.shape[1])\n",
    "\n",
    "#setting learning rate and number of iterations\n",
    "learning_rate = 0.001\n",
    "num_iterations = 2000\n",
    "theta = gradient_descent(X, y, theta, learning_rate, num_iterations)\n",
    "theta"
   ]
  },
  {
   "cell_type": "code",
   "execution_count": 19,
   "id": "8fea3a2b",
   "metadata": {},
   "outputs": [
    {
     "data": {
      "text/plain": [
       "array([0.54153175, 0.58027931, 0.5961694 , 0.60239535, 0.61339848])"
      ]
     },
     "execution_count": 19,
     "metadata": {},
     "output_type": "execute_result"
    }
   ],
   "source": [
    "prob = predict_proba(X, theta)\n",
    "prob"
   ]
  },
  {
   "cell_type": "code",
   "execution_count": 20,
   "id": "7eefa094",
   "metadata": {},
   "outputs": [
    {
     "data": {
      "text/plain": [
       "array([[0.47914791, 0.52085209],\n",
       "       [0.41181533, 0.58818467],\n",
       "       [0.3849265 , 0.6150735 ],\n",
       "       [0.36920798, 0.63079202],\n",
       "       [0.35488278, 0.64511722]])"
      ]
     },
     "execution_count": 20,
     "metadata": {},
     "output_type": "execute_result"
    }
   ],
   "source": [
    "from sklearn.linear_model import LogisticRegression\n",
    "logreg = LogisticRegression()\n",
    "logreg.fit(X, y)\n",
    "logreg.predict_proba(X)"
   ]
  },
  {
   "cell_type": "code",
   "execution_count": 21,
   "id": "479ccfab",
   "metadata": {},
   "outputs": [
    {
     "data": {
      "text/plain": [
       "array([[-6.36661868e-05,  4.85622695e-01,  3.18305913e-01]])"
      ]
     },
     "execution_count": 21,
     "metadata": {},
     "output_type": "execute_result"
    }
   ],
   "source": [
    "logreg.coef_"
   ]
  }
 ],
 "metadata": {
  "kernelspec": {
   "display_name": "Python 3 (ipykernel)",
   "language": "python",
   "name": "python3"
  },
  "language_info": {
   "codemirror_mode": {
    "name": "ipython",
    "version": 3
   },
   "file_extension": ".py",
   "mimetype": "text/x-python",
   "name": "python",
   "nbconvert_exporter": "python",
   "pygments_lexer": "ipython3",
   "version": "3.9.13"
  }
 },
 "nbformat": 4,
 "nbformat_minor": 5
}
